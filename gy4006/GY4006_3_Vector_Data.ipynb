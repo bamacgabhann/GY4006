{
 "cells": [
  {
   "cell_type": "markdown",
   "metadata": {
    "colab_type": "text",
    "id": "view-in-github"
   },
   "source": [
    "<a href=\"https://colab.research.google.com/github/bamacgabhann/GY5021/blob/2024/GY5021/1_Introduction_to_Geospatial_Data/GY5021_3_Vector_Data.ipynb\" target=\"_parent\"><img src=\"https://colab.research.google.com/assets/colab-badge.svg\" alt=\"Open In Colab\"/></a>     <a href=\"https://mybinder.org/v2/gh/bamacgabhann/GY5021/9a706c8973d5bde0e50593ecc94941b0426f24a6?urlpath=lab%2Ftree%2FGY5021%2F1_Introduction_to_Geospatial_Data%2FGY5021_3_Vector_Data.ipynb\" target=\"_parent\"><img src=\"https://mybinder.org/badge_logo.svg\" alt=\"Open in Binder\" /></a>"
   ]
  },
  {
   "cell_type": "markdown",
   "metadata": {},
   "source": [
    "<img src=\"https://raw.githubusercontent.com/bamacgabhann/GY5021/2024/PD_logo.png\" align=center alt=\"UL Geography logo\"/>"
   ]
  },
  {
   "cell_type": "markdown",
   "metadata": {
    "id": "j-2xUUAfX0xa"
   },
   "source": [
    "# Vector Data\n",
    "\n",
    "In the Data Types notebook, we looked at how computers can store data as text strings (str), whole number integers (int), decimal number floats (float), dates, times, and number of other formats. One we mentioned specifically was coordinates, for which I mentioned the idea of coordinates as tuples.\n",
    "\n",
    "Coordinates don't come as single numbers. We'll look at different forms of coordinates soon, but even the simplest coordinates come as at least two numbers - an x coordinate, and a y coordinate. "
   ]
  },
  {
   "cell_type": "code",
   "execution_count": null,
   "metadata": {
    "colab": {
     "base_uri": "https://localhost:8080/"
    },
    "id": "KOZlcuk6cHXE",
    "outputId": "a24be415-4885-413b-d3e4-afc8a771786f"
   },
   "outputs": [],
   "source": [
    "x_coordinate = 5\n",
    "y_coordinate = 9\n",
    "\n",
    "x_coordinate, y_coordinate"
   ]
  },
  {
   "cell_type": "markdown",
   "metadata": {
    "id": "6t5RakCbcZRH"
   },
   "source": [
    "This is not very useful, because we'd have to keep referencing both. Much easier use tuples so that we can store the coordinate pairs together."
   ]
  },
  {
   "cell_type": "code",
   "execution_count": null,
   "metadata": {
    "colab": {
     "base_uri": "https://localhost:8080/"
    },
    "id": "gUwQPGcVcfv3",
    "outputId": "f80029bc-84ea-4fec-b9a0-dab3719d5276"
   },
   "outputs": [],
   "source": [
    "my_coordinates = (5, 9)\n",
    "my_coordinates"
   ]
  },
  {
   "cell_type": "code",
   "execution_count": null,
   "metadata": {
    "colab": {
     "base_uri": "https://localhost:8080/"
    },
    "id": "ITJE-4MMeOg6",
    "outputId": "88f9dadc-3fca-450b-dc50-e4deeb0ded12"
   },
   "outputs": [],
   "source": [
    "type(my_coordinates)"
   ]
  },
  {
   "cell_type": "markdown",
   "metadata": {
    "id": "s4K0Sup5iOvT"
   },
   "source": [
    "But we can take a step further, make it even simpler - because the built-in data types like tuples aren't the only data types you can use in Python. It's very easy to define custom data types - and of course you can use custom data types that others have already defined.\n",
    "\n",
    "The Python module Shapely already has classes which define data types for coordinates. These are the building blocks of geospatial data processing in Python. \n",
    "\n",
    "The same is broadly true for anything you'd be using to work with geospatial data. Whether that's QGIS or ArcGIS or Earth Engine or Felt, anything you'd be using will already have standard ways of representing coordinates - generally referred to as the geometry.\n",
    "\n",
    "I'm most familiar with QGIS, which has its own built-in geometry definitions. ArcGIS Pro uses a JSON format for geometry - this looks a bit like a Python dictionary.\n",
    "\n",
    "There's a couple of formats which are not software-specific, such as *Well Known Text* and *Well Known Binary*, which allow sharing of geometry information between different software or code. These are defined by the Open Geospatial Consortium (OGC), the organisation responsible for standard definitions in open geospatial data.\n",
    "\n",
    "Often, you won't even have to think about it, because however the coordinates might be handled inside the code or software itself, they're usually being read from a file which will be in a standard format, and anything which can read those kinds of files will know how to interpret coordinates stored in them.\n",
    "\n",
    "I'll come back to file types in a bit, but before then it's more important to actually look closer at what coordinates can represent.\n",
    "\n",
    "We'll use Shapely in Python here - but the differences in other formats are all very minor, so this will essentially apply to anything you might be using. The precise way the numbers are presented might differ from format to format, but that's less important than the types of geometry - and those are the same across the board.\n",
    "\n",
    "(We're also going to use geopandas to organise the data, and matplotlib to plot it)."
   ]
  },
  {
   "cell_type": "markdown",
   "metadata": {
    "id": "uwOReuKpcll-"
   },
   "source": [
    "## 1. Points\n",
    "\n",
    "A single coordinate in isolation refers to a single Point. That's the basic building block of all coordinate systems, to be able to refer to a particular spot. We could plot this:"
   ]
  },
  {
   "cell_type": "code",
   "execution_count": 2,
   "metadata": {
    "colab": {
     "base_uri": "https://localhost:8080/",
     "height": 430
    },
    "id": "ZiTBgttVd0V7",
    "outputId": "18c43c8e-404e-4a19-a00d-574b7194727c"
   },
   "outputs": [
    {
     "ename": "NameError",
     "evalue": "name 'my_coordinates' is not defined",
     "output_type": "error",
     "traceback": [
      "\u001b[0;31m---------------------------------------------------------------------------\u001b[0m",
      "\u001b[0;31mNameError\u001b[0m                                 Traceback (most recent call last)",
      "Cell \u001b[0;32mIn[2], line 5\u001b[0m\n\u001b[1;32m      2\u001b[0m \u001b[38;5;28;01mimport\u001b[39;00m \u001b[38;5;21;01mmatplotlib\u001b[39;00m\u001b[38;5;21;01m.\u001b[39;00m\u001b[38;5;21;01mpyplot\u001b[39;00m \u001b[38;5;28;01mas\u001b[39;00m \u001b[38;5;21;01mplt\u001b[39;00m\n\u001b[1;32m      3\u001b[0m \u001b[38;5;28;01mimport\u001b[39;00m \u001b[38;5;21;01mgeopandas\u001b[39;00m \u001b[38;5;28;01mas\u001b[39;00m \u001b[38;5;21;01mgpd\u001b[39;00m\n\u001b[0;32m----> 5\u001b[0m gpd\u001b[38;5;241m.\u001b[39mGeoSeries(Point(\u001b[43mmy_coordinates\u001b[49m))\u001b[38;5;241m.\u001b[39mplot()\n\u001b[1;32m      6\u001b[0m plt\u001b[38;5;241m.\u001b[39mshow()\n",
      "\u001b[0;31mNameError\u001b[0m: name 'my_coordinates' is not defined"
     ]
    }
   ],
   "source": [
    "from shapely.geometry import Point\n",
    "import matplotlib.pyplot as plt\n",
    "import geopandas as gpd\n",
    "\n",
    "gpd.GeoSeries(Point(my_coordinates)).plot()\n",
    "plt.show()"
   ]
  },
  {
   "cell_type": "markdown",
   "metadata": {
    "id": "MtrY-iNKfB6M"
   },
   "source": [
    "We can plot multiple Point coordinates, if we want. They'll appear as separate points on the map."
   ]
  },
  {
   "cell_type": "code",
   "execution_count": null,
   "metadata": {
    "colab": {
     "base_uri": "https://localhost:8080/",
     "height": 430
    },
    "id": "iwxs1fJbe7nj",
    "outputId": "31454214-7131-4045-be75-58a530bbf533"
   },
   "outputs": [],
   "source": [
    "gpd.GeoSeries([Point(1, 7), Point(6, 2), Point(8, 8), Point(5, 9)]).plot()\n",
    "plt.show()"
   ]
  },
  {
   "cell_type": "markdown",
   "metadata": {
    "id": "iiKkrzODgGTH"
   },
   "source": [
    "These points could represent anything - the positions of people, or trees, or points along a cycle path; the corners of a building, or a field."
   ]
  },
  {
   "cell_type": "markdown",
   "metadata": {
    "id": "xh6fI9_AidTN"
   },
   "source": [
    "## 2. Lines\n",
    "\n",
    "What if it is points along a cycle path, though? Is separate points the best way to show this? Might it not be better to join them up to show the actual path?\n",
    "\n",
    "Yes, we can do that."
   ]
  },
  {
   "cell_type": "code",
   "execution_count": null,
   "metadata": {
    "colab": {
     "base_uri": "https://localhost:8080/",
     "height": 430
    },
    "id": "RDMbLCn3gtSH",
    "outputId": "bc8d895c-32f7-4090-cb11-80c99368b720"
   },
   "outputs": [],
   "source": [
    "from shapely import LineString\n",
    "gpd.GeoSeries(LineString([(1, 7), (6, 2), (8, 8), (5, 9)])).plot()\n",
    "plt.show()"
   ]
  },
  {
   "cell_type": "markdown",
   "metadata": {
    "id": "YblUQCx0hwsj"
   },
   "source": [
    "As I said above, in Python, the module `shapely` is used to define objects of different geometries. While tuples are a built-in basic data type in Python, shapely geometry objects such as Point and Linestring are defined within the shapely module. Once you're using that module, though, these have exactly the same validity as built-in data types like lists and tuples.\n",
    "\n",
    "It's not just Python and shapely, though - the same is true of any geospatial software. Some may do it in different ways, but all will have defined data types for point coordinates, and for lines which are formed from multiple point coordinates.\n",
    "\n",
    "It's a simple matter of associating the points together, so that the program understands those points aren't just individual points, but are actually connected together.\n",
    "\n",
    "One benefit of defining a data type for this is that the order of points in the line is fixed. After all, the coordinates above could form a very different line."
   ]
  },
  {
   "cell_type": "code",
   "execution_count": null,
   "metadata": {
    "colab": {
     "base_uri": "https://localhost:8080/",
     "height": 430
    },
    "id": "ZAvSsnyphwAt",
    "outputId": "60d4e9b9-a20d-4b8e-c8d2-d9eb1d6190b7"
   },
   "outputs": [],
   "source": [
    "gpd.GeoSeries(LineString([(6, 2), (5, 9), (1, 7), (8, 8)])).plot()\n",
    "plt.show()"
   ]
  },
  {
   "cell_type": "markdown",
   "metadata": {
    "id": "Uj_q-hcukcSD"
   },
   "source": [
    "That's the same points as the previous - just in a different order. Using a shapely Linestring object for them keeps them in an intended order, and avoids things like accidentally rearranging the points - not something you'd want to do if you're planning where to build a cycle lane, for example!\n",
    "\n",
    "Lines will be used for cycle paths and roads, rivers, bus routes, shipping routes, the flight paths of birds or aircraft - anything which goes from one point to another."
   ]
  },
  {
   "cell_type": "markdown",
   "metadata": {
    "id": "XKVBIqKSkvo9"
   },
   "source": [
    "## 3. Polygons\n",
    "\n",
    "What if our coordinates aren't a cycle lane, but are the boundary of a field? In other words, what if the two ends of the line shouldn't just stop, but should be joined together?"
   ]
  },
  {
   "cell_type": "code",
   "execution_count": 3,
   "metadata": {
    "colab": {
     "base_uri": "https://localhost:8080/",
     "height": 430
    },
    "id": "ceXuS8SNkulI",
    "outputId": "1a18f6fc-7cca-45bc-bc79-f42106219f5b"
   },
   "outputs": [
    {
     "data": {
      "image/png": "[encoded data removed]",
      "text/plain": [
       "<Figure size 640x480 with 1 Axes>"
      ]
     },
     "metadata": {},
     "output_type": "display_data"
    }
   ],
   "source": [
    "from shapely import Polygon\n",
    "gpd.GeoSeries(Polygon([(1, 7), (6, 2), (8, 8), (5, 9)])).plot()\n",
    "plt.show()"
   ]
  },
  {
   "cell_type": "markdown",
   "metadata": {
    "id": "32C9pv8AlGnm"
   },
   "source": [
    "You can see in that code cell that we call these polygons. So, an open series of coordinates, where the ends are not connected to each other, would be a Line, but where they join together they form a Polygon.\n",
    "\n",
    "These are the three fundamental geometry types in what is referred to as Vector geometry. Each of these shapes - Points, Lines, and Polygons - are defined by numerical coordinates for single points, which can remain as single points or form part of an ordered series which can be open or closed.\n",
    "\n",
    "We can define whatever shape we want using these.\n",
    "\n",
    "The position of a person, or a tree, the corner of a house, the centre of a roundabout, the location of a water level monitor in a river, or an air pollution monitor beside a road: Point.\n",
    "\n",
    "The path of a cycle lane or a road, a fence, the course of a river, the trajectory of a bird in flight: Line.\n",
    "\n",
    "The outline of a house, the area covered by a flood, the boundaries of a field, the border of a country: Polygon."
   ]
  },
  {
   "cell_type": "markdown",
   "metadata": {
    "id": "YkCWKz0FnwIg"
   },
   "source": [
    "## 4. Multi-part shapes\n",
    "\n",
    "Sometimes, you'll want to keep a collection of points together - not because they're forming a line, but because they're all part of one object. For example, a fixed set of sample locations."
   ]
  },
  {
   "cell_type": "code",
   "execution_count": null,
   "metadata": {
    "colab": {
     "base_uri": "https://localhost:8080/",
     "height": 430
    },
    "id": "-SsC1n7KqPr8",
    "outputId": "3b8588be-3e11-4b76-b44f-0f8a94175011"
   },
   "outputs": [],
   "source": [
    "from shapely import MultiPoint\n",
    "my_multipoint = MultiPoint([(1, 7), (6, 2), (8, 8), (5, 9)])\n",
    "\n",
    "gpd.GeoSeries(my_multipoint).plot()\n",
    "plt.show()"
   ]
  },
  {
   "cell_type": "markdown",
   "metadata": {
    "id": "gIIrrYDHrbG7"
   },
   "source": [
    "While this looks the same as our original points plot, it's stored as a single object, which means we can perform operations on it as a single object.\n",
    "\n",
    "Or you might have a collection of lines. For example, a road might include a line for each side, plus lines for each lane, a cycle path, a footpath. You might have a collection of lines to represent a river network which includes tributaries, and so can't be represented by one single line."
   ]
  },
  {
   "cell_type": "code",
   "execution_count": null,
   "metadata": {
    "colab": {
     "base_uri": "https://localhost:8080/",
     "height": 430
    },
    "id": "Ww30hJAPr_ge",
    "outputId": "231a740a-9836-40a8-e440-65ffeb81f89d"
   },
   "outputs": [],
   "source": [
    "from shapely import MultiLineString\n",
    "my_multilinestring = MultiLineString([[(6, 2), (4, 5), (7, 7), (5, 9)], [(4, 5), (1, 7)], [(7, 7), (8, 8)]])\n",
    "\n",
    "gpd.GeoSeries(my_multilinestring).plot()\n",
    "plt.show()"
   ]
  },
  {
   "cell_type": "markdown",
   "metadata": {
    "id": "D2dgYhIJtcQy"
   },
   "source": [
    "Likewise, you might have a collection of polygons which represent a single object - for example a property which comprises multiple buildings, or mutiple land parcels."
   ]
  },
  {
   "cell_type": "code",
   "execution_count": null,
   "metadata": {
    "colab": {
     "base_uri": "https://localhost:8080/",
     "height": 430
    },
    "id": "JSun6vqlt_PN",
    "outputId": "ff4aaa54-69e7-463e-e8e2-30856b472b5f"
   },
   "outputs": [],
   "source": [
    "from shapely import MultiPolygon\n",
    "my_multipolygon = MultiPolygon([[((1, 7), (6, 2), (8, 8), (5, 9))], [((12, 14), (16, 17), (15, 14), (11, 10))]])\n",
    "\n",
    "gpd.GeoSeries(my_multipolygon).plot()\n",
    "plt.show()"
   ]
  },
  {
   "cell_type": "markdown",
   "metadata": {
    "id": "h1rnt6D5wFMF"
   },
   "source": [
    "## 5. Summary\n",
    "\n",
    "This isn't particularly complicated - but it is fundamental. Again, while we're using Python to demonstrate this, any geospatial programming or GIS software - QGIS, ArcGIS, or others - will be based around this same concept. Where you have data for which the shape can be defined by coordinates, this data will be represented by Point (or MultiPoint), Line/LineString (or MultiLine/MultiLineString), or Polygon (or MultiPolygon) shapes.\n",
    "\n",
    "If you are drawing or defining your own shapes, you need to understand which data type you need. For example, if you're trying to define an area in which new trees will be planted, you won't want to use Points to define the overall boundaries of the area - and you won't want to use LineStrings to indicate the positions where the trees will be planted.\n",
    "\n",
    "More often, you'll probably be importing data from other sources, where the data types aren't up to you. In cases such as this, though, it's still important to know what data types you're working with, because different analysis operations are possible on different kinds of shapes. So knowing what you've got means you'll know what's possible to do with it."
   ]
  },
  {
   "cell_type": "markdown",
   "metadata": {},
   "source": [
    "___\n",
    "\n",
    "Week 1 Notebooks: \n",
    "\n",
    "1. Geospatial Software and Programming Languages <a href=\"https://colab.research.google.com/github/bamacgabhann/GY5021/blob/2024/GY5021/1_Introduction_to_Geospatial_Data/GY5021_1_Geospatial_Software_and_Programming_Languages.ipynb\" target=\"_parent\"><img src=\"https://colab.research.google.com/assets/colab-badge.svg\" alt=\"Open In Colab\"/></a>     <a href=\"https://mybinder.org/v2/gh/bamacgabhann/GY5021/9a706c8973d5bde0e50593ecc94941b0426f24a6?urlpath=lab%2Ftree%2FGY5021%2F1_Introduction_to_Geospatial_Data%2FGY5021_1_Geospatial_Software_and_Programming_Languages.ipynb\" target=\"_parent\"><img src=\"https://mybinder.org/badge_logo.svg\" alt=\"Open in Binder\" /></a>\n",
    "\n",
    "2. Data Types <a href=\"https://colab.research.google.com/github/bamacgabhann/GY5021/blob/2024/GY5021/1_Introduction_to_Geospatial_Data/GY5021_2_Data_Types.ipynb\" target=\"_parent\"><img src=\"https://colab.research.google.com/assets/colab-badge.svg\" alt=\"Open In Colab\"/></a>     <a href=\"https://mybinder.org/v2/gh/bamacgabhann/GY5021/9a706c8973d5bde0e50593ecc94941b0426f24a6?urlpath=lab%2Ftree%2FGY5021%2F1_Introduction_to_Geospatial_Data%2FGY5021_2_Data_Types.ipynb\" target=\"_parent\"><img src=\"https://mybinder.org/badge_logo.svg\" alt=\"Open in Binder\" /></a>\n",
    "\n",
    "3. Vector Data <a href=\"https://colab.research.google.com/github/bamacgabhann/GY5021/blob/2024/GY5021/1_Introduction_to_Geospatial_Data/GY5021_3_Vector_Data.ipynb\" target=\"_parent\"><img src=\"https://colab.research.google.com/assets/colab-badge.svg\" alt=\"Open In Colab\"/></a>     <a href=\"https://mybinder.org/v2/gh/bamacgabhann/GY5021/9a706c8973d5bde0e50593ecc94941b0426f24a6?urlpath=lab%2Ftree%2FGY5021%2F1_Introduction_to_Geospatial_Data%2FGY5021_3_Vector_Data.ipynb\" target=\"_parent\"><img src=\"https://mybinder.org/badge_logo.svg\" alt=\"Open in Binder\" /></a>\n",
    "\n",
    "4. Attribute Data <a href=\"https://colab.research.google.com/github/bamacgabhann/GY5021/blob/2024/GY5021/1_Introduction_to_Geospatial_Data/GY5021_4_Attribute_Data.ipynb\" target=\"_parent\"><img src=\"https://colab.research.google.com/assets/colab-badge.svg\" alt=\"Open In Colab\"/></a>     <a href=\"https://mybinder.org/v2/gh/bamacgabhann/GY5021/9a706c8973d5bde0e50593ecc94941b0426f24a6?urlpath=lab%2Ftree%2FGY5021%2F1_Introduction_to_Geospatial_Data%2FGY5021_4_Attribute_Data.ipynb\" target=\"_parent\"><img src=\"https://mybinder.org/badge_logo.svg\" alt=\"Open in Binder\" /></a>\n",
    "\n",
    "5. Coordinate Reference Systems <a href=\"https://colab.research.google.com/github/bamacgabhann/GY5021/blob/2024/GY5021/1_Introduction_to_Geospatial_Data/GY5021_5_Coordinate_Reference_Systems.ipynb\" target=\"_parent\"><img src=\"https://colab.research.google.com/assets/colab-badge.svg\" alt=\"Open In Colab\"/></a>     <a href=\"https://mybinder.org/v2/gh/bamacgabhann/GY5021/9a706c8973d5bde0e50593ecc94941b0426f24a6?urlpath=lab%2Ftree%2FGY5021%2F1_Introduction_to_Geospatial_Data%2FGY5021_5_Coordinate_Reference_Systems.ipynb\" target=\"_parent\"><img src=\"https://mybinder.org/badge_logo.svg\" alt=\"Open in Binder\" /></a>\n",
    "\n",
    "6. Geospatial Data Files <a href=\"https://colab.research.google.com/github/bamacgabhann/GY5021/blob/2024/GY5021/1_Introduction_to_Geospatial_Data/GY5021_6_Geospatial_Data_Files.ipynb\" target=\"_parent\"><img src=\"https://colab.research.google.com/assets/colab-badge.svg\" alt=\"Open In Colab\"/></a>     <a href=\"https://mybinder.org/v2/gh/bamacgabhann/GY5021/9a706c8973d5bde0e50593ecc94941b0426f24a6?urlpath=lab%2Ftree%2FGY5021%2F1_Introduction_to_Geospatial_Data%2FGY5021_6_Geospatial_Data_Files.ipynb\" target=\"_parent\"><img src=\"https://mybinder.org/badge_logo.svg\" alt=\"Open in Binder\" /></a>\n",
    "\n",
    "7. Vector Geoprocessing <a href=\"https://colab.research.google.com/github/bamacgabhann/GY5021/blob/2024/GY5021/1_Introduction_to_Geospatial_Data/GY5021_7_Vector_Geoprocessing.ipynb\" target=\"_parent\"><img src=\"https://colab.research.google.com/assets/colab-badge.svg\" alt=\"Open In Colab\"/></a>     <a href=\"https://mybinder.org/v2/gh/bamacgabhann/GY5021/9a706c8973d5bde0e50593ecc94941b0426f24a6?urlpath=lab%2Ftree%2FGY5021%2F1_Introduction_to_Geospatial_Data%2FGY5021_7_Vector_Geoprocessing.ipynb\" target=\"_parent\"><img src=\"https://mybinder.org/badge_logo.svg\" alt=\"Open in Binder\" /></a>\n",
    "\n",
    "Additional:\n",
    "\n",
    "- The Python Language <a href=\"https://colab.research.google.com/github/bamacgabhann/GY5021/blob/2024/GY5021/1_Introduction_to_Geospatial_Data/GY5021_The_Python_Language.ipynb\" target=\"_parent\"><img src=\"https://colab.research.google.com/assets/colab-badge.svg\" alt=\"Open In Colab\"/></a>     <a href=\"https://mybinder.org/v2/gh/bamacgabhann/GY5021/9a706c8973d5bde0e50593ecc94941b0426f24a6?urlpath=lab%2Ftree%2FGY5021%2F1_Introduction_to_Geospatial_Data%2FGY5021_The_Python_Language.ipynb\" target=\"_parent\"><img src=\"https://mybinder.org/badge_logo.svg\" alt=\"Open in Binder\" /></a>\n",
    "\n",
    "- Getting Started Seriously With Python <a href=\"https://colab.research.google.com/github/bamacgabhann/GY5021/blob/2024/GY5021/1_Introduction_to_Geospatial_Data/GY5021_Getting_Started_Seriously_With_Python.ipynb\" target=\"_parent\"><img src=\"https://colab.research.google.com/assets/colab-badge.svg\" alt=\"Open In Colab\"/></a>     <a href=\"https://mybinder.org/v2/gh/bamacgabhann/GY5021/9a706c8973d5bde0e50593ecc94941b0426f24a6?urlpath=lab%2Ftree%2FGY5021%2F1_Introduction_to_Geospatial_Data%2FGY5021_Getting_Started_Seriously_With_Python.ipynb\" target=\"_parent\"><img src=\"https://mybinder.org/badge_logo.svg\" alt=\"Open in Binder\" /></a>"
   ]
  }
 ],
 "metadata": {
  "colab": {
   "authorship_tag": "ABX9TyP4LtCeYTgCUw2pjPTWnXeO",
   "include_colab_link": true,
   "mount_file_id": "16H5yqJLpYgLlFHoHiOcksWzRLYmGVa_4",
   "provenance": []
  },
  "kernelspec": {
   "display_name": "IEOS2023",
   "language": "python",
   "name": "ieos2023"
  },
  "language_info": {
   "codemirror_mode": {
    "name": "ipython",
    "version": 3
   },
   "file_extension": ".py",
   "mimetype": "text/x-python",
   "name": "python",
   "nbconvert_exporter": "python",
   "pygments_lexer": "ipython3",
   "version": "3.11.6"
  }
 },
 "nbformat": 4,
 "nbformat_minor": 4
}
